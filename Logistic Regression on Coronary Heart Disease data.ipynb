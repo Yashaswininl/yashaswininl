{
 "cells": [
  {
   "cell_type": "markdown",
   "id": "182ea620",
   "metadata": {},
   "source": [
    "### Logistic Regression on Coronary Heart Disease data\n",
    "\n",
    "\n",
    "Consider a coronary heart disease dataset which lists the age in years ('age') and the presence/absence of evidence of significant coronary heart disease ('chd') for 100 patients. "
   ]
  },
  {
   "cell_type": "code",
   "execution_count": 2,
   "id": "98ac349b",
   "metadata": {},
   "outputs": [],
   "source": [
    "import pandas as pd\n",
    "import numpy as np\n",
    "import matplotlib.pyplot as plt\n",
    "%matplotlib inline"
   ]
  },
  {
   "cell_type": "code",
   "execution_count": 3,
   "id": "89d8e973",
   "metadata": {},
   "outputs": [
    {
     "data": {
      "text/html": [
       "<div>\n",
       "<style scoped>\n",
       "    .dataframe tbody tr th:only-of-type {\n",
       "        vertical-align: middle;\n",
       "    }\n",
       "\n",
       "    .dataframe tbody tr th {\n",
       "        vertical-align: top;\n",
       "    }\n",
       "\n",
       "    .dataframe thead th {\n",
       "        text-align: right;\n",
       "    }\n",
       "</style>\n",
       "<table border=\"1\" class=\"dataframe\">\n",
       "  <thead>\n",
       "    <tr style=\"text-align: right;\">\n",
       "      <th></th>\n",
       "      <th>age</th>\n",
       "      <th>chd</th>\n",
       "    </tr>\n",
       "  </thead>\n",
       "  <tbody>\n",
       "    <tr>\n",
       "      <th>0</th>\n",
       "      <td>20</td>\n",
       "      <td>0</td>\n",
       "    </tr>\n",
       "    <tr>\n",
       "      <th>1</th>\n",
       "      <td>23</td>\n",
       "      <td>0</td>\n",
       "    </tr>\n",
       "    <tr>\n",
       "      <th>2</th>\n",
       "      <td>24</td>\n",
       "      <td>0</td>\n",
       "    </tr>\n",
       "    <tr>\n",
       "      <th>3</th>\n",
       "      <td>25</td>\n",
       "      <td>1</td>\n",
       "    </tr>\n",
       "    <tr>\n",
       "      <th>4</th>\n",
       "      <td>25</td>\n",
       "      <td>0</td>\n",
       "    </tr>\n",
       "    <tr>\n",
       "      <th>...</th>\n",
       "      <td>...</td>\n",
       "      <td>...</td>\n",
       "    </tr>\n",
       "    <tr>\n",
       "      <th>95</th>\n",
       "      <td>63</td>\n",
       "      <td>1</td>\n",
       "    </tr>\n",
       "    <tr>\n",
       "      <th>96</th>\n",
       "      <td>64</td>\n",
       "      <td>1</td>\n",
       "    </tr>\n",
       "    <tr>\n",
       "      <th>97</th>\n",
       "      <td>64</td>\n",
       "      <td>0</td>\n",
       "    </tr>\n",
       "    <tr>\n",
       "      <th>98</th>\n",
       "      <td>65</td>\n",
       "      <td>1</td>\n",
       "    </tr>\n",
       "    <tr>\n",
       "      <th>99</th>\n",
       "      <td>69</td>\n",
       "      <td>1</td>\n",
       "    </tr>\n",
       "  </tbody>\n",
       "</table>\n",
       "<p>100 rows × 2 columns</p>\n",
       "</div>"
      ],
      "text/plain": [
       "    age  chd\n",
       "0    20    0\n",
       "1    23    0\n",
       "2    24    0\n",
       "3    25    1\n",
       "4    25    0\n",
       "..  ...  ...\n",
       "95   63    1\n",
       "96   64    1\n",
       "97   64    0\n",
       "98   65    1\n",
       "99   69    1\n",
       "\n",
       "[100 rows x 2 columns]"
      ]
     },
     "execution_count": 3,
     "metadata": {},
     "output_type": "execute_result"
    }
   ],
   "source": [
    "chd = pd.read_csv(\"chd_data.csv\")\n",
    "chd"
   ]
  },
  {
   "cell_type": "code",
   "execution_count": 5,
   "id": "49204bed",
   "metadata": {},
   "outputs": [
    {
     "data": {
      "text/plain": [
       "Text(0.5, 1.0, 'Age vs. Coronary Heart Disease')"
      ]
     },
     "execution_count": 5,
     "metadata": {},
     "output_type": "execute_result"
    },
    {
     "data": {
      "image/png": "[encoded data removed]",
      "text/plain": [
       "<Figure size 640x480 with 1 Axes>"
      ]
     },
     "metadata": {},
     "output_type": "display_data"
    }
   ],
   "source": [
    "import matplotlib.pyplot as plt                       # Importing the required library\n",
    "%matplotlib inline\n",
    "                                                      # Plotting the 'chd' values against 'age' values\n",
    "plt.scatter(chd[\"age\"],chd[\"chd\"])\n",
    "plt.xlabel(\"age\")\n",
    "plt.ylabel(\"chd\")\n",
    "plt.title(\"Age vs. Coronary Heart Disease\")\n"
   ]
  },
  {
   "cell_type": "code",
   "execution_count": 7,
   "id": "dd84f5db",
   "metadata": {},
   "outputs": [
    {
     "name": "stdout",
     "output_type": "stream",
     "text": [
      "shape of xtrain: (70, 1)\n",
      "shape of xtest: (30, 1)\n",
      "shape of ytrain: (70,)\n",
      "shape of ytest: (30,)\n",
      "intercept: [-5.65118929] coeffecient : [[0.11144281]]\n"
     ]
    }
   ],
   "source": [
    "from sklearn.model_selection import train_test_split                 # Importing the required class\n",
    "predictors = [\"age\"]                                                 # Specifying the columns as predictor and target variable\n",
    "target = \"chd\"\n",
    "x = chd[predictors]\n",
    "y = chd[target]\n",
    "xtrain, xtest,ytrain,ytest = train_test_split(x,y,test_size =0.3 , random_state =0) \n",
    "print(\"shape of xtrain:\", xtrain.shape)                           # Spliting the data in training and test set in 70:30 ratio\n",
    "print(\"shape of xtest:\", xtest.shape)\n",
    "print(\"shape of ytrain:\", ytrain.shape)\n",
    "print(\"shape of ytest:\", ytest.shape)\n",
    "                       "
   ]
  },
  {
   "cell_type": "markdown",
   "id": "b28dc8f0",
   "metadata": {},
   "source": [
    "### Building logistic regression model"
   ]
  },
  {
   "cell_type": "code",
   "execution_count": null,
   "id": "dca1ef42",
   "metadata": {},
   "outputs": [],
   "source": [
    "from sklearn.linear_model import LogisticRegression\n",
    "model = LogisticRegression()                          # Creating the object of the class LogisticRegression\n",
    "model.fit(xtrain,ytrain)                              # Training the model using the training data\n",
    "print(\"intercept:\", model.intercept_, \"coeffecient :\", model.coef_) # Getting the intercept and the coefficients of the model"
   ]
  },
  {
   "cell_type": "markdown",
   "id": "874ab455",
   "metadata": {},
   "source": [
    "Using this logistic model, the probability of occurrence of coronary heart disease for a person aged 29 can be predicted as shown below"
   ]
  },
  {
   "cell_type": "code",
   "execution_count": 8,
   "id": "f2778a32",
   "metadata": {},
   "outputs": [
    {
     "name": "stdout",
     "output_type": "stream",
     "text": [
      "predict the probability of the sample for class 0 and 1 respectively: [[0.91829082 0.08170918]]\n",
      "predicted class is i.e whether chd is 0 or 1 is: [0]\n"
     ]
    },
    {
     "name": "stderr",
     "output_type": "stream",
     "text": [
      "C:\\ProgramData\\Anaconda3\\lib\\site-packages\\sklearn\\base.py:450: UserWarning: X does not have valid feature names, but LogisticRegression was fitted with feature names\n",
      "  warnings.warn(\n",
      "C:\\ProgramData\\Anaconda3\\lib\\site-packages\\sklearn\\base.py:450: UserWarning: X does not have valid feature names, but LogisticRegression was fitted with feature names\n",
      "  warnings.warn(\n"
     ]
    }
   ],
   "source": [
    "test = np.array([29]).reshape(1,-1)\n",
    "print(\"predict the probability of the sample for class 0 and 1 respectively:\", model.predict_proba(test))\n",
    "print(\"predicted class is i.e whether chd is 0 or 1 is:\", model.predict(test))"
   ]
  },
  {
   "cell_type": "markdown",
   "id": "e1b3a067",
   "metadata": {},
   "source": [
    "The predicted probability for class '0' is higher than predicted probability of class '1' . So class '0' is chosen as the final target value for this instance.\n",
    "\n",
    "Similarly, the probabilities for the class labels can be predicted for other samples."
   ]
  },
  {
   "cell_type": "code",
   "execution_count": 9,
   "id": "af8d7931",
   "metadata": {},
   "outputs": [
    {
     "name": "stdout",
     "output_type": "stream",
     "text": [
      "predict the probability of the sample for class 0 and 1 respectively:  [[0.96839526 0.03160474]]\n",
      "predicted class of the given sample is:  [0]\n"
     ]
    },
    {
     "name": "stderr",
     "output_type": "stream",
     "text": [
      "C:\\ProgramData\\Anaconda3\\lib\\site-packages\\sklearn\\base.py:450: UserWarning: X does not have valid feature names, but LogisticRegression was fitted with feature names\n",
      "  warnings.warn(\n",
      "C:\\ProgramData\\Anaconda3\\lib\\site-packages\\sklearn\\base.py:450: UserWarning: X does not have valid feature names, but LogisticRegression was fitted with feature names\n",
      "  warnings.warn(\n"
     ]
    }
   ],
   "source": [
    "test= np.array([20]).reshape(1,-1)    \n",
    "print(\"predict the probability of the sample for class 0 and 1 respectively: \", model.predict_proba(test))\n",
    "print(\"predicted class of the given sample is: \", model.predict(test))"
   ]
  },
  {
   "cell_type": "code",
   "execution_count": 11,
   "id": "1b4beb9d",
   "metadata": {},
   "outputs": [
    {
     "name": "stdout",
     "output_type": "stream",
     "text": [
      "The probability of the sample for class 0 and 1 respectively is: [[0.90952961 0.09047039]]\n",
      "The class the sample belong is : [0]\n"
     ]
    },
    {
     "name": "stderr",
     "output_type": "stream",
     "text": [
      "C:\\ProgramData\\Anaconda3\\lib\\site-packages\\sklearn\\base.py:450: UserWarning: X does not have valid feature names, but LogisticRegression was fitted with feature names\n",
      "  warnings.warn(\n",
      "C:\\ProgramData\\Anaconda3\\lib\\site-packages\\sklearn\\base.py:450: UserWarning: X does not have valid feature names, but LogisticRegression was fitted with feature names\n",
      "  warnings.warn(\n"
     ]
    }
   ],
   "source": [
    "test = np.array([30]).reshape(1,-1)\n",
    "print(\"The probability of the sample for class 0 and 1 respectively is:\", model.predict_proba(test))\n",
    "print(\"The class the sample belong is :\", model.predict(test))"
   ]
  },
  {
   "cell_type": "markdown",
   "id": "3bd18455",
   "metadata": {},
   "source": [
    "### Evaluate the model's performance on training and test data using 'accuracy' measure."
   ]
  },
  {
   "cell_type": "code",
   "execution_count": 12,
   "id": "7f441a20",
   "metadata": {},
   "outputs": [
    {
     "name": "stdout",
     "output_type": "stream",
     "text": [
      "the accuracy of the model during training is : 0.7428571428571429\n",
      "the accuracy of the model during the validation is: 0.7333333333333333\n"
     ]
    }
   ],
   "source": [
    "print(\"the accuracy of the model during training is :\" , model.score(xtrain , ytrain))\n",
    "print(\"the accuracy of the model during the validation is:\", model.score(xtest,ytest))"
   ]
  },
  {
   "cell_type": "markdown",
   "id": "3ed04962",
   "metadata": {},
   "source": [
    "The output shows that model is 74% accuracte in prediction. It can be assumed that the model is not overfitting to the training data because the accuracy on test data is similar to that of the training data"
   ]
  },
  {
   "cell_type": "code",
   "execution_count": 15,
   "id": "4f1110a3",
   "metadata": {},
   "outputs": [
    {
     "name": "stdout",
     "output_type": "stream",
     "text": [
      "RMSE train :  0.50709255283711\n",
      "RMSE test :  0.5163977794943222\n"
     ]
    }
   ],
   "source": [
    "from sklearn.metrics import mean_squared_error\n",
    "ytrainout = model.predict(xtrain)\n",
    "ytestout = model.predict(xtest)\n",
    "rmsetrain= mean_squared_error(ytrain, ytrainout)**0.5\n",
    "rmsetest = mean_squared_error(ytest, ytestout)**0.5\n",
    "print(\"RMSE train : \", rmsetrain)\n",
    "print(\"RMSE test : \", rmsetest)"
   ]
  },
  {
   "cell_type": "code",
   "execution_count": 16,
   "id": "0b85ea30",
   "metadata": {},
   "outputs": [
    {
     "data": {
      "text/plain": [
       "0.5163977794943222"
      ]
     },
     "execution_count": 16,
     "metadata": {},
     "output_type": "execute_result"
    }
   ],
   "source": [
    "ytestout = model.predict(xtest)\n",
    "rmsetest = mean_squared_error(ytest, ytestout)**0.5\n",
    "rmsetest"
   ]
  }
 ],
 "metadata": {
  "kernelspec": {
   "display_name": "Python 3 (ipykernel)",
   "language": "python",
   "name": "python3"
  },
  "language_info": {
   "codemirror_mode": {
    "name": "ipython",
    "version": 3
   },
   "file_extension": ".py",
   "mimetype": "text/x-python",
   "name": "python",
   "nbconvert_exporter": "python",
   "pygments_lexer": "ipython3",
   "version": "3.9.13"
  }
 },
 "nbformat": 4,
 "nbformat_minor": 5
}
